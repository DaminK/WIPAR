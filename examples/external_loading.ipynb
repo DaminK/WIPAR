{
 "cells": [
  {
   "cell_type": "markdown",
   "metadata": {},
   "source": [
    "## Loading Features (with generic numpy loading function) & Parcellations (with ci_lib package)\n",
    "\n",
    "#### Imports"
   ]
  },
  {
   "cell_type": "code",
   "execution_count": 46,
   "metadata": {},
   "outputs": [],
   "source": [
    "# Loading \n",
    "from pathlib import Path\n",
    "from os import path\n",
    "import sys\n",
    "from os import listdir\n",
    "from os.path import isfile, join\n",
    "\n",
    "# Custom library from WIPAR\n",
    "sys.path.append(str((Path.cwd().parent))) #use local version of ci_lib during development\n",
    "import ci_lib\n",
    "from ci_lib.utils import snakemake_tools\n",
    "from ci_lib.features import Features, Means, Raws, Covariances, AutoCovariances, Moup, AutoCorrelations, Feature_Type\n",
    "from ci_lib.plotting import graph_circle_plot, plot_glassbrain_bokeh, draw_neural_activity\n",
    "from ci_lib import DecompData\n",
    "from ci_lib.feature_selection import RFE_pipeline\n",
    "from ci_lib.networks import construct_network, construct_network_from_feat, add_bokeh_attributes\n",
    "\n",
    "# Processing\n",
    "import numpy as np\n",
    "import networkx as nx\n",
    "\n",
    "# Dict Formating\n",
    "import json     \n",
    "import collections\n",
    "import pandas as pd\n",
    "\n",
    "# Plotting\n",
    "import plotly.express as px\n",
    "from plotly.subplots import make_subplots\n",
    "import plotly.graph_objects as go\n"
   ]
  },
  {
   "cell_type": "code",
   "execution_count": 66,
   "metadata": {},
   "outputs": [],
   "source": [
    "#Helper functions\n",
    "def print_dict_keys(print_dict,level=0):\n",
    "    if type(print_dict) is dict:\n",
    "        print(f\"Level {level}:\",end=\" \")\n",
    "        print(list(print_dict.keys()))\n",
    "        print_dict_keys(next(iter(print_dict.values())),level+1)\n",
    "    else:\n",
    "        print(f\"Example shape of Value (feature): {print_dict.shape}\")\n",
    "\n",
    "#Used to get session name on last dim\n",
    "def get_key_last_dim(rec_dict):\n",
    "    #Look one level ahead\n",
    "    arbitary_next_dict = next(iter(rec_dict.values()))\n",
    "\n",
    "    if type(arbitary_next_dict) is dict:\n",
    "        #If still dict continue recursion with next element\n",
    "        return get_key_last_dim(arbitary_next_dict)\n",
    "    else:\n",
    "        #Else return a key from current level\n",
    "        return list(rec_dict.keys())[0]  #TODO this will break if 'All' becomes first entry as it has no parcellation and is only the aggregation of the features from different sessions\n"
   ]
  },
  {
   "cell_type": "markdown",
   "metadata": {},
   "source": [
    "## Loading\n",
    "* Feature Values (exported, can be loaded using generic numpy loading function)\n",
    "* Parcellations to get labels of nodes (custom class, load with ci_lib package)"
   ]
  },
  {
   "cell_type": "code",
   "execution_count": 68,
   "metadata": {},
   "outputs": [
    {
     "name": "stdout",
     "output_type": "stream",
     "text": [
      "Loaded feature dict from: /home/kuehn/WIPAR/calcium-imaging-analysis/results/exports/feats_hash6de2b164e9fc7f6457b59a40fb3c768c.npy\n",
      "With the following structure:\n",
      "Level 0: [\"anatomical_ROI~['VISp-R,VISrl-R,SSp-bfd-R,MOs-R,MOs-L,SSp-bfd-L,VISrl-L,VISp-L']\", 'anatomical_ROI~[]']\n",
      "Level 1: ['mean']\n",
      "Level 2: ['left', 'right']\n",
      "Level 3: ['GN06.2021-03-26_10-53-05', 'GN06.2021-03-29_11-51-27', 'GN06.2021-03-01_13-57-39', 'GN06.2021-03-02_15-49-02', 'GN06.2021-03-03_14-02-06', 'GN06.2021-03-04_11-51-23', 'GN09.2021-03-26_10-13-36', 'GN09.2021-04-14_16-01-37', 'GN09.2021-04-15_11-12-30', 'GN09.2021-04-15_15-21-57', 'GN09.2021-04-16_15-11-45', 'GN09.2021-04-19_10-37-14', 'GN09.2021-04-20_13-07-10', 'GN09.2021-04-21_13-20-21', 'All']\n",
      "Example shape of Value (feature): (142, 133, 8)\n"
     ]
    }
   ],
   "source": [
    "''' \n",
    "Example of loading exports from WIPAR:\n",
    "    Load dictionary that aggregates Feature Values {Parcellation x Feature x Condition x  (Combined Sessions + Indivdual Sessions)}\n",
    "'''\n",
    "\n",
    "#Manually define export file for loading (otherwise most recent export is loaded)\n",
    "overwrite_file= None \n",
    "\n",
    "export_path = Path.cwd().parent/\"results/exports/\"\n",
    "\n",
    "if overwrite_file is not None:\n",
    "    #Loads manually defined export file\n",
    "    loading_path = export_path/overwrite_file\n",
    "else:\n",
    "    #Iterates all export files to find most recent\n",
    "    files = [export_path/f for f in listdir(export_path) if isfile(join(export_path, f))]\n",
    "    try:\n",
    "        loading_path = files[np.argmin([os.path.getmtime(f) for f in files])]\n",
    "\n",
    "    except ValueError as err:\n",
    "        if 'empty sequence' in str(err):\n",
    "            print(\"Export folder is empty, run the feature rule first\")\n",
    "            loading_path = None \n",
    "\n",
    "#Loading\n",
    "if loading_path is not None:   \n",
    "\n",
    "    feat_dict = np.load(loading_path, allow_pickle=True)\n",
    "\n",
    "    print(f\"Loaded feature dict from: {loading_path}\")\n",
    "    print(\"With the following structure:\")\n",
    "    print_dict_keys(feat_dict)\n"
   ]
  },
  {
   "cell_type": "code",
   "execution_count": 67,
   "metadata": {},
   "outputs": [
    {
     "name": "stdout",
     "output_type": "stream",
     "text": [
      "{\"anatomical_ROI~['VISp-R,VISrl-R,SSp-bfd-R,MOs-R,MOs-L,SSp-bfd-L,VISrl-L,VISp-L']\": array(['VISpᴿ   ', 'VISrlᴿ  ', 'SSp-bfdᴿ', 'MOsᴿ    ', 'MOsᴸ    ',\n",
      "       'SSp-bfdᴸ', 'VISrlᴸ  ', 'VISpᴸ   '], dtype='<U8'), 'anatomical_ROI~[]': array(['FRPᴿ    ', 'MOpᴿ    ', 'MOsᴿ    ', 'SSp-nᴿ  ', 'SSp-bfdᴿ',\n",
      "       'SSp-llᴿ ', 'SSp-mᴿ  ', 'SSp-ulᴿ ', 'SSp-trᴿ ', 'SSp-unᴿ ',\n",
      "       'SSsᴿ    ', 'AUDdᴿ   ', 'AUDpᴿ   ', 'AUDpoᴿ  ', 'AUDvᴿ   ',\n",
      "       'VISalᴿ  ', 'VISamᴿ  ', 'VISlᴿ   ', 'VISpᴿ   ', 'VISplᴿ  ',\n",
      "       'VISpmᴿ  ', 'VISliᴿ  ', 'VISporᴿ ', 'ACAdᴿ   ', 'PLᴿ     ',\n",
      "       'RSPaglᴿ ', 'RSPdᴿ   ', 'RSPvᴿ   ', 'VISaᴿ   ', 'VISrlᴿ  ',\n",
      "       'TEaᴿ    ', 'MOBᴿ    ', 'MOBᴸ    ', 'TEaᴸ    ', 'VISrlᴸ  ',\n",
      "       'VISaᴸ   ', 'RSPvᴸ   ', 'RSPdᴸ   ', 'RSPaglᴸ ', 'PLᴸ     ',\n",
      "       'ACAdᴸ   ', 'VISporᴸ ', 'VISliᴸ  ', 'VISpmᴸ  ', 'VISplᴸ  ',\n",
      "       'VISpᴸ   ', 'VISlᴸ   ', 'VISamᴸ  ', 'VISalᴸ  ', 'AUDvᴸ   ',\n",
      "       'AUDpoᴸ  ', 'AUDpᴸ   ', 'AUDdᴸ   ', 'SSsᴸ    ', 'SSp-unᴸ ',\n",
      "       'SSp-trᴸ ', 'SSp-ulᴸ ', 'SSp-mᴸ  ', 'SSp-llᴸ ', 'SSp-bfdᴸ',\n",
      "       'SSp-nᴸ  ', 'MOsᴸ    ', 'MOpᴸ    ', 'FRPᴸ    '], dtype='<U8')}\n"
     ]
    }
   ],
   "source": [
    "''' \n",
    "Example of loading custom classes from WIPAR:\n",
    "    Loads the DecompData object for an arbirtary session for each parcellation\n",
    "'''\n",
    "\n",
    "#Get arbitrary session from last dim of feat_dict\n",
    "example_session =   Path(get_key_last_dim(feat_dict)) \n",
    "\n",
    "#Get list of parcellations and features\n",
    "parcellations = list(feat_dict.keys())\n",
    "\n",
    "#?\n",
    "features = list(next(iter(feat_dict.values())).keys())\n",
    "\n",
    "#Get labels for each parcellation\n",
    "labels = {}\n",
    "for parcellation_name in list(feat_dict.keys()):\n",
    "\n",
    "    #Load parcellation from arbitrary session to get labels\n",
    "    res_path = Path.cwd().parent /'results'\n",
    "    parcellation_path = Path(res_path/example_session/Path(parcellation_name)/\"data.h5\")\n",
    "    parcellation = DecompData.load(parcellation_path)\n",
    "\n",
    "    labels[parcellation_name] = parcellation.spatial_labels\n",
    "\n",
    "\n",
    "print(labels)\n",
    "\n",
    "#Ignore that hashes do not match, I'll remove that as hashes of dicts/objects are just not deterministic in python"
   ]
  }
 ],
 "metadata": {
  "kernelspec": {
   "display_name": "Python 3.10.6 ('jupyter_WIPAR')",
   "language": "python",
   "name": "python3"
  },
  "language_info": {
   "codemirror_mode": {
    "name": "ipython",
    "version": 3
   },
   "file_extension": ".py",
   "mimetype": "text/x-python",
   "name": "python",
   "nbconvert_exporter": "python",
   "pygments_lexer": "ipython3",
   "version": "3.10.6"
  },
  "orig_nbformat": 4,
  "vscode": {
   "interpreter": {
    "hash": "b9c94aa22aad9bb60d64f3bf31210506db161509c8019cb8ad696fa541bc7bed"
   }
  }
 },
 "nbformat": 4,
 "nbformat_minor": 2
}
