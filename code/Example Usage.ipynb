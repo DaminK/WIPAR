{
 "cells": [
  {
   "cell_type": "code",
   "execution_count": 13,
   "id": "42563790",
   "metadata": {},
   "outputs": [],
   "source": [
    "import h5py\n",
    "import numpy\n",
    "import numpy as np\n",
    "import pandas as pd\n",
    "import pickle as pkl\n",
    "from pathlib import Path\n",
    "from matplotlib import pyplot as plt\n",
    "import itertools\n",
    "\n",
    "import sklearn.linear_model as skllm\n",
    "import sklearn.neighbors as sklnn\n",
    "import sklearn.discriminant_analysis as skda\n",
    "import sklearn.preprocessing as skppc\n",
    "import sklearn.pipeline as skppl\n",
    "import sklearn.ensemble as skens\n",
    "from sklearn import preprocessing\n",
    "from sklearn.model_selection import StratifiedShuffleSplit\n",
    "\n",
    "#Local scripts\n",
    "from data import DecompData\n",
    "from features import measurements\n",
    "from plotting import plots\n",
    "from loading import load_task_data_as_pandas_df"
   ]
  },
  {
   "cell_type": "markdown",
   "id": "525a079e",
   "metadata": {},
   "source": [
    "## Load/Extract session data"
   ]
  },
  {
   "cell_type": "code",
   "execution_count": 14,
   "id": "a225a3c5",
   "metadata": {},
   "outputs": [
    {
     "name": "stdout",
     "output_type": "stream",
     "text": [
      "C:\\Master\\Calcium_Analysis\\data\n",
      "Loaded pickled data.\n"
     ]
    }
   ],
   "source": [
    "data_path = Path(os.path.abspath('')).parent / Path('data')\n",
    "print(data_path)\n",
    "if (not (data_path/'extracted_data.pkl').exists()):\n",
    "    # load behavior data\n",
    "    sessions = load_task_data_as_pandas_df.extract_session_data_and_save(root_paths=[data_path], mouse_ids=[\"GN06\"], reextract=False)\n",
    "    with open( data_path / 'extracted_data.pkl', 'wb') as handle:\n",
    "        pkl.dump(sessions, handle)\n",
    "else:\n",
    "    # load saved data\n",
    "    with open( data_path / 'extracted_data.pkl', 'rb') as handle:\n",
    "        sessions = pkl.load(handle)\n",
    "    print(\"Loaded pickled data.\")\n",
    "\n",
    "file_path = data_path / \"GN06\" / Path('2021-01-20_10-15-16/SVD_data/Vc.mat')\n",
    "f = h5py.File(file_path, 'r')\n",
    "\n",
    "frameCnt = np.array(f['frameCnt'])\n",
    "trial_starts = np.cumsum(frameCnt[:, 1])\n",
    "svd = DecompData( sessions, np.array(f[\"Vc\"]), np.array(f[\"U\"]), np.array(trial_starts) )"
   ]
  },
  {
   "cell_type": "markdown",
   "id": "274f7a9c",
   "metadata": {},
   "source": [
    "## Define Conditions & additional Filters"
   ]
  },
  {
   "cell_type": "code",
   "execution_count": 15,
   "id": "bdebb595",
   "metadata": {},
   "outputs": [],
   "source": [
    "#define different conds\n",
    "modal_keys = ['visual', 'tactile', 'vistact']\n",
    "modal_range = range(3)\n",
    "\n",
    "side_keys = ['right', 'left']\n",
    "side_range = range(2)\n",
    "\n",
    "#filter for all conds\n",
    "trial_preselection = ((svd.n_targets == 6) & (svd.n_distractors == 0) & (svd.auto_reward == 0) & (svd.both_spouts == 1))\n",
    "\n",
    "#set condition filter\n",
    "cond_keys =  itertools.product(modal_keys,side_keys)\n",
    "cond_keys_str = [f\"{s}_{m}\" for m, s in list(cond_keys)]\n",
    "svd.conditions = ([(svd.modality == modal) & (svd.target_side_left == side) & trial_preselection for modal, side in itertools.product(modal_range,side_range)])"
   ]
  },
  {
   "cell_type": "code",
   "execution_count": 16,
   "id": "46a4f7ac",
   "metadata": {},
   "outputs": [],
   "source": [
    "save_outputs = True\n",
    "frames = 30  #### trial duration\n",
    "baseline_mode = None  #### basline mode ('mean' / 'zscore' / None)\n",
    "runs = 200  ### number of runs\n",
    "comp = 1  ### number componants to use\n",
    "n_rep = 20  ### number of repetition\n",
    "n_comp_LDA = 1  ### number of LDA componants (conds -1)"
   ]
  },
  {
   "cell_type": "code",
   "execution_count": 17,
   "id": "a0399e6d",
   "metadata": {},
   "outputs": [
    {
     "name": "stdout",
     "output_type": "stream",
     "text": [
      "(44, 45, 300)\n",
      "(45, 45, 300)\n",
      "(76, 45, 300)\n",
      "(83, 45, 300)\n",
      "(51, 45, 300)\n",
      "(56, 45, 300)\n"
     ]
    }
   ],
   "source": [
    "features  = ['mean']\n",
    "feature_data = {\n",
    "    \"mean\": [measurements.mean(svd.conditions[i][30:75,:,:],comp) for i in range(len(svd.conditions))] #mean of stimulusframes for first cond\n",
    "}\n",
    "feature_label = ['mean']\n",
    "\n"
   ]
  },
  {
   "cell_type": "code",
   "execution_count": 20,
   "id": "cd34f070",
   "metadata": {},
   "outputs": [
    {
     "name": "stdout",
     "output_type": "stream",
     "text": [
      "\tRepetition 20/200\n"
     ]
    }
   ],
   "source": [
    "cv = StratifiedShuffleSplit(n_rep, test_size=0.2, random_state=420)\n",
    "perf = np.zeros([n_rep, len(features), 4])\n",
    "\n",
    "for i_feat, feat in enumerate(features):\n",
    "\n",
    "\n",
    "    data = np.concatenate(feature_data[feat])\n",
    "    labels = np.concatenate([np.full((len(feature_data[feat][i])),cond_keys_str[i]) for i in range(len(feature_data[feat]))])\n",
    "    #feature_labels[feat]\n",
    "    #for i in range(len(feature_data[feat])):\n",
    "         #= feature_data[feat][i]\n",
    "\n",
    "\n",
    "\n",
    "    scaler = preprocessing.StandardScaler().fit( data )\n",
    "    data = scaler.transform(data)\n",
    "\n",
    "    cv_split = cv.split(data, labels)\n",
    "\n",
    "    c_MLR = skppl.make_pipeline(skppc.StandardScaler(),\n",
    "                                skllm.LogisticRegression(C=1, penalty='l2', multi_class='multinomial',\n",
    "                                                         solver='lbfgs',\n",
    "                                                         max_iter=500))\n",
    "    c_1NN = sklnn.KNeighborsClassifier(n_neighbors=1, algorithm='brute', metric='correlation')\n",
    "\n",
    "    c_LDA = skda.LinearDiscriminantAnalysis(n_components=n_comp_LDA, solver='eigen', shrinkage='auto')\n",
    "\n",
    "    c_RF = skens.RandomForestClassifier(n_estimators=100, bootstrap=False)\n",
    "\n",
    "    i = 0  ## counter\n",
    "    for train_idx, test_idx in cv_split:\n",
    "        print(f'\\tRepetition {i:>3}/{n_rep}', end=\"\\r\" )\n",
    "        c_MLR.fit(data[train_idx, :], labels[train_idx])\n",
    "        c_1NN.fit(data[train_idx, :], labels[train_idx])\n",
    "        c_LDA.fit(data[train_idx, :], labels[train_idx])\n",
    "        c_RF .fit(data[train_idx, :], labels[train_idx])\n",
    "        perf[i, i_feat, 0] = c_MLR.score(data[test_idx, :], labels[test_idx])\n",
    "        perf[i, i_feat, 1] = c_1NN.score(data[test_idx, :], labels[test_idx])\n",
    "        perf[i, i_feat, 2] = c_LDA.score(data[test_idx, :], labels[test_idx])\n",
    "        perf[i, i_feat, 3] = c_RF.score(data[test_idx, :], labels[test_idx])\n",
    "        i += 1\n",
    "    print(f'\\tRepetition {n_rep}/{n_rep}' )\n"
   ]
  },
  {
   "cell_type": "code",
   "execution_count": 19,
   "id": "0778b490",
   "metadata": {},
   "outputs": [
    {
     "data": {
      "image/png": "[encoded data removed]",
      "text/plain": [
       "<Figure size 432x288 with 1 Axes>"
      ]
     },
     "metadata": {
      "needs_background": "light"
     },
     "output_type": "display_data"
    }
   ],
   "source": [
    "if save_outputs:\n",
    "    np.save('perf_tasks.npy', perf)\n",
    "plt.figure()\n",
    "for i, feat in enumerate(features):\n",
    "    v1 = plots.colored_violinplot(perf[:, i, 0], positions=np.arange(1) + i - 0.3, widths=[0.15], color=\"blue\")\n",
    "    v2 = plots.colored_violinplot(perf[:, i, 1], positions=np.arange(1) + i - 0.1, widths=[0.15], color=\"orange\")\n",
    "    v3 = plots.colored_violinplot(perf[:, i, 2], positions=np.arange(1) + i + 0.1, widths=[0.15], color=\"green\")\n",
    "    v4 = plots.colored_violinplot(perf[:, i, 3], positions=np.arange(1) + i + 0.3, widths=[0.15], color=\"yellow\")\n",
    "    if i == 0:\n",
    "        plt.legend( [ v['bodies'][0] for v in [v1,v2,v3,v4]], [ \"MLR\", \"1NN\", \"LDA\",\"RF\" ] )\n",
    "\n",
    "plt.xticks(range(len(features)), [ feat for feat in features ])\n",
    "plt.plot([-.5, len(features)-.5], [1/len(svd.conditions), 1/len(svd.conditions)], '--k')\n",
    "plt.yticks(np.arange(0, 1, 0.1))\n",
    "plt.ylabel('Accuracy', fontsize=14)\n",
    "plt.savefig(\"perf_tasks.png\")\n",
    "plt.show()\n"
   ]
  },
  {
   "cell_type": "code",
   "execution_count": null,
   "id": "46e23197",
   "metadata": {},
   "outputs": [],
   "source": []
  }
 ],
 "metadata": {
  "kernelspec": {
   "display_name": "Python 3",
   "language": "python",
   "name": "python3"
  },
  "language_info": {
   "codemirror_mode": {
    "name": "ipython",
    "version": 3
   },
   "file_extension": ".py",
   "mimetype": "text/x-python",
   "name": "python",
   "nbconvert_exporter": "python",
   "pygments_lexer": "ipython3",
   "version": "3.8.8"
  }
 },
 "nbformat": 4,
 "nbformat_minor": 5
}
