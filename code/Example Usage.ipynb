{
 "cells": [
  {
   "cell_type": "code",
   "execution_count": 1,
   "metadata": {},
   "outputs": [],
   "source": [
    "import h5py\n",
    "import numpy\n",
    "import numpy as np\n",
    "import pandas as pd\n",
    "import pickle as pkl\n",
    "from pathlib import Path\n",
    "from matplotlib import pyplot as plt\n",
    "import itertools\n",
    "import os\n",
    "\n",
    "import sklearn.linear_model as skllm\n",
    "import sklearn.neighbors as sklnn\n",
    "import sklearn.discriminant_analysis as skda\n",
    "import sklearn.preprocessing as skppc\n",
    "import sklearn.pipeline as skppl\n",
    "import sklearn.ensemble as skens\n",
    "from sklearn import preprocessing\n",
    "from sklearn.model_selection import StratifiedShuffleSplit\n",
    "\n",
    "#Local scripts\n",
    "from data import DecompData\n",
    "from features import Raws, Means, Moup, Covariances, AutoCovariances\n",
    "from plotting import plots\n",
    "from loading import load_task_data_as_pandas_df\n",
    "\n",
    "#Progress Bar\n",
    "from tqdm.notebook import tqdm"
   ]
  },
  {
   "cell_type": "markdown",
   "metadata": {},
   "source": [
    "## Load/Extract session data"
   ]
  },
  {
   "cell_type": "code",
   "execution_count": 2,
   "metadata": {},
   "outputs": [
    {
     "name": "stdout",
     "output_type": "stream",
     "text": [
      "B:\\Master\\ERS_calcium_analysis\\data\n",
      "Loaded pickled data.\n"
     ]
    }
   ],
   "source": [
    "data_path = Path(os.path.abspath('')).parent / Path('data')\n",
    "plot_path = Path(os.path.abspath('')).parent / Path('plots')\n",
    "\n",
    "print(data_path)\n",
    "if (not (data_path/'extracted_data.pkl').exists()):\n",
    "    # load behavior data\n",
    "    sessions = load_task_data_as_pandas_df.extract_session_data_and_save(root_paths=[data_path], mouse_ids=[\"GN06\"], reextract=False)\n",
    "    with open( data_path / 'extracted_data.pkl', 'wb') as handle:\n",
    "        pkl.dump(sessions, handle)\n",
    "else:\n",
    "    # load saved data\n",
    "    with open( data_path / 'extracted_data.pkl', 'rb') as handle:\n",
    "        sessions = pkl.load(handle)\n",
    "    print(\"Loaded pickled data.\")\n",
    "\n",
    "file_path = data_path / \"GN06\" / Path('2021-01-20_10-15-16/SVD_data/Vc.mat')\n",
    "f = h5py.File(file_path, 'r')\n",
    "\n",
    "frameCnt = np.array(f['frameCnt'])\n",
    "trial_starts = np.cumsum(frameCnt[:-1, 1])\n",
    "svd = DecompData( sessions, np.array(f[\"Vc\"]), np.array(f[\"U\"]), np.array(trial_starts) )"
   ]
  },
  {
   "cell_type": "markdown",
   "metadata": {},
   "source": [
    "## Define Conditions & additional Filters"
   ]
  },
  {
   "cell_type": "code",
   "execution_count": 3,
   "metadata": {},
   "outputs": [],
   "source": [
    "#define different conds\n",
    "modal_keys = ['visual', 'tactile', 'vistact']\n",
    "modal_range = range(3)\n",
    "\n",
    "side_keys = ['right', 'left']\n",
    "side_range = range(2)\n",
    "\n",
    "#filter for all conds\n",
    "trial_preselection = ((svd.n_targets == 6) & (svd.n_distractors == 0) & (svd.auto_reward == 0) & (svd.both_spouts == 1))\n",
    "\n",
    "#set condition filter\n",
    "cond_keys =  itertools.product(modal_keys,side_keys)\n",
    "cond_keys_str = [f\"{s}_{m}\" for m, s in list(cond_keys)]\n",
    "svd = svd[trial_preselection]\n",
    "svd.conditions = [{\"modality\" : modal, \"target_side_left\" : side} for modal, side in itertools.product(modal_range,side_range)]"
   ]
  },
  {
   "cell_type": "code",
   "execution_count": 4,
   "metadata": {},
   "outputs": [],
   "source": [
    "save_outputs = True\n",
    "baseline_mode = None  #### basline mode ('mean' / 'zscore' / None)\n",
    "comp = 10 ### number componants to use\n",
    "n_rep = 10  ### number of folds\n",
    "n_comp_LDA = None #5  ### number of LDA componants (conds -1)"
   ]
  },
  {
   "cell_type": "code",
   "execution_count": 5,
   "metadata": {},
   "outputs": [
    {
     "data": {
      "application/vnd.jupyter.widget-view+json": {
       "model_id": "44b95eababef4460aef3f2c16f420e49",
       "version_major": 2,
       "version_minor": 0
      },
      "text/plain": [
       "Time-lags for Cov and MOU-Process:   0%|          | 0/2 [00:00<?, ?it/s]"
      ]
     },
     "metadata": {},
     "output_type": "display_data"
    },
    {
     "data": {
      "application/vnd.jupyter.widget-view+json": {
       "model_id": "742c85b17238494baaa2ad3581b09d05",
       "version_major": 2,
       "version_minor": 0
      },
      "text/plain": [
       "Cov(𝜏=0):   0%|          | 0/6 [00:00<?, ?it/s]"
      ]
     },
     "metadata": {},
     "output_type": "display_data"
    },
    {
     "data": {
      "application/vnd.jupyter.widget-view+json": {
       "model_id": "",
       "version_major": 2,
       "version_minor": 0
      },
      "text/plain": [
       "right_visual:   0%|          | 0/44 [00:00<?, ?it/s]"
      ]
     },
     "metadata": {},
     "output_type": "display_data"
    },
    {
     "data": {
      "application/vnd.jupyter.widget-view+json": {
       "model_id": "",
       "version_major": 2,
       "version_minor": 0
      },
      "text/plain": [
       "left_visual:   0%|          | 0/45 [00:00<?, ?it/s]"
      ]
     },
     "metadata": {},
     "output_type": "display_data"
    },
    {
     "data": {
      "application/vnd.jupyter.widget-view+json": {
       "model_id": "",
       "version_major": 2,
       "version_minor": 0
      },
      "text/plain": [
       "right_tactile:   0%|          | 0/76 [00:00<?, ?it/s]"
      ]
     },
     "metadata": {},
     "output_type": "display_data"
    },
    {
     "data": {
      "application/vnd.jupyter.widget-view+json": {
       "model_id": "",
       "version_major": 2,
       "version_minor": 0
      },
      "text/plain": [
       "left_tactile:   0%|          | 0/83 [00:00<?, ?it/s]"
      ]
     },
     "metadata": {},
     "output_type": "display_data"
    },
    {
     "data": {
      "application/vnd.jupyter.widget-view+json": {
       "model_id": "",
       "version_major": 2,
       "version_minor": 0
      },
      "text/plain": [
       "right_vistact:   0%|          | 0/51 [00:00<?, ?it/s]"
      ]
     },
     "metadata": {},
     "output_type": "display_data"
    },
    {
     "data": {
      "application/vnd.jupyter.widget-view+json": {
       "model_id": "",
       "version_major": 2,
       "version_minor": 0
      },
      "text/plain": [
       "left_vistact:   0%|          | 0/56 [00:00<?, ?it/s]"
      ]
     },
     "metadata": {},
     "output_type": "display_data"
    },
    {
     "data": {
      "application/vnd.jupyter.widget-view+json": {
       "model_id": "03a32c8158f24e5ab52723aec357ae29",
       "version_major": 2,
       "version_minor": 0
      },
      "text/plain": [
       "Cov(𝜏=1):   0%|          | 0/6 [00:00<?, ?it/s]"
      ]
     },
     "metadata": {},
     "output_type": "display_data"
    },
    {
     "data": {
      "application/vnd.jupyter.widget-view+json": {
       "model_id": "",
       "version_major": 2,
       "version_minor": 0
      },
      "text/plain": [
       "right_visual:   0%|          | 0/44 [00:00<?, ?it/s]"
      ]
     },
     "metadata": {},
     "output_type": "display_data"
    },
    {
     "data": {
      "application/vnd.jupyter.widget-view+json": {
       "model_id": "",
       "version_major": 2,
       "version_minor": 0
      },
      "text/plain": [
       "left_visual:   0%|          | 0/45 [00:00<?, ?it/s]"
      ]
     },
     "metadata": {},
     "output_type": "display_data"
    },
    {
     "data": {
      "application/vnd.jupyter.widget-view+json": {
       "model_id": "",
       "version_major": 2,
       "version_minor": 0
      },
      "text/plain": [
       "right_tactile:   0%|          | 0/76 [00:00<?, ?it/s]"
      ]
     },
     "metadata": {},
     "output_type": "display_data"
    },
    {
     "data": {
      "application/vnd.jupyter.widget-view+json": {
       "model_id": "",
       "version_major": 2,
       "version_minor": 0
      },
      "text/plain": [
       "left_tactile:   0%|          | 0/83 [00:00<?, ?it/s]"
      ]
     },
     "metadata": {},
     "output_type": "display_data"
    },
    {
     "data": {
      "application/vnd.jupyter.widget-view+json": {
       "model_id": "",
       "version_major": 2,
       "version_minor": 0
      },
      "text/plain": [
       "right_vistact:   0%|          | 0/51 [00:00<?, ?it/s]"
      ]
     },
     "metadata": {},
     "output_type": "display_data"
    },
    {
     "data": {
      "application/vnd.jupyter.widget-view+json": {
       "model_id": "",
       "version_major": 2,
       "version_minor": 0
      },
      "text/plain": [
       "left_vistact:   0%|          | 0/56 [00:00<?, ?it/s]"
      ]
     },
     "metadata": {},
     "output_type": "display_data"
    },
    {
     "data": {
      "application/vnd.jupyter.widget-view+json": {
       "model_id": "ef885a43a9fc4069a46da5fbaf81e880",
       "version_major": 2,
       "version_minor": 0
      },
      "text/plain": [
       "Mou(𝜏=1):   0%|          | 0/6 [00:00<?, ?it/s]"
      ]
     },
     "metadata": {},
     "output_type": "display_data"
    },
    {
     "data": {
      "application/vnd.jupyter.widget-view+json": {
       "model_id": "",
       "version_major": 2,
       "version_minor": 0
      },
      "text/plain": [
       "right_visual:   0%|          | 0/44 [00:00<?, ?it/s]"
      ]
     },
     "metadata": {},
     "output_type": "display_data"
    },
    {
     "data": {
      "application/vnd.jupyter.widget-view+json": {
       "model_id": "",
       "version_major": 2,
       "version_minor": 0
      },
      "text/plain": [
       "left_visual:   0%|          | 0/45 [00:00<?, ?it/s]"
      ]
     },
     "metadata": {},
     "output_type": "display_data"
    },
    {
     "data": {
      "application/vnd.jupyter.widget-view+json": {
       "model_id": "",
       "version_major": 2,
       "version_minor": 0
      },
      "text/plain": [
       "right_tactile:   0%|          | 0/76 [00:00<?, ?it/s]"
      ]
     },
     "metadata": {},
     "output_type": "display_data"
    },
    {
     "data": {
      "application/vnd.jupyter.widget-view+json": {
       "model_id": "",
       "version_major": 2,
       "version_minor": 0
      },
      "text/plain": [
       "left_tactile:   0%|          | 0/83 [00:00<?, ?it/s]"
      ]
     },
     "metadata": {},
     "output_type": "display_data"
    },
    {
     "data": {
      "application/vnd.jupyter.widget-view+json": {
       "model_id": "",
       "version_major": 2,
       "version_minor": 0
      },
      "text/plain": [
       "right_vistact:   0%|          | 0/51 [00:00<?, ?it/s]"
      ]
     },
     "metadata": {},
     "output_type": "display_data"
    },
    {
     "data": {
      "application/vnd.jupyter.widget-view+json": {
       "model_id": "",
       "version_major": 2,
       "version_minor": 0
      },
      "text/plain": [
       "left_vistact:   0%|          | 0/56 [00:00<?, ?it/s]"
      ]
     },
     "metadata": {},
     "output_type": "display_data"
    }
   ],
   "source": [
    "feature_data = {}\n",
    "    #\"mean\": [Means(svd.conditions[i,:,30:75],max_comps=comp) for i in range(len(svd.conditions))], #mean of stimulusframes for first cond\n",
    "    #\"mean(-base)\": [Means(svd.conditions[i,:,30:75]-Means(svd.conditions[i,:,15:30]),comp) for i in range(len(svd.conditions))],\n",
    "    #\"raw\": [Raws(svd.conditions[i,:,30:75],comp) for i in range(len(svd.conditions))], #mean of stimulusframes for first cond,\n",
    "    #\"cov\": [Covariances(svd.conditions[i,:,30:75],max_comps=comp) for i in tqdm(range(len(svd.conditions)),desc='Conditions')], #mean of stimulusframes for first cond\n",
    "\n",
    "\n",
    "for j in tqdm(range(0,2,1),desc=\"Time-lags for Cov and MOU-Process\"):\n",
    "    feature_data[r\"Cov($\\tau$=\"+str(j)+\")\"] =[AutoCovariances(svd.conditions[i,:,30:75],max_comps=comp,time_lag_range=[j],label=cond_keys_str[i]) for i in tqdm(range(len(svd.conditions)),desc=\"Cov(𝜏=\"+str(j)+\")\")]   \n",
    "    if j>0:        \n",
    "        feature_data[r'Mou($\\tau$='+str(j)+\")\"] = [Moup(svd.conditions[i,:,30:75],max_comps=comp,time_lag=j,label=cond_keys_str[i]) for i in tqdm(range(len(svd.conditions)),desc=\"Mou(𝜏=\"+str(j)+\")\")]\n",
    "\n",
    "features = feature_data.keys()\n",
    "feature_label = list(features)"
   ]
  },
  {
   "cell_type": "code",
   "execution_count": 6,
   "metadata": {},
   "outputs": [
    {
     "data": {
      "application/vnd.jupyter.widget-view+json": {
       "model_id": "b043849b49a54d4b835a81456ba2e56d",
       "version_major": 2,
       "version_minor": 0
      },
      "text/plain": [
       "Fit & score classifiers:   0%|          | 0/3 [00:00<?, ?it/s]"
      ]
     },
     "metadata": {},
     "output_type": "display_data"
    },
    {
     "data": {
      "application/vnd.jupyter.widget-view+json": {
       "model_id": "",
       "version_major": 2,
       "version_minor": 0
      },
      "text/plain": [
       "Cov($\\tau$=0):   0%|          | 0/10 [00:00<?, ?it/s]"
      ]
     },
     "metadata": {},
     "output_type": "display_data"
    },
    {
     "data": {
      "application/vnd.jupyter.widget-view+json": {
       "model_id": "",
       "version_major": 2,
       "version_minor": 0
      },
      "text/plain": [
       "Cov($\\tau$=1):   0%|          | 0/10 [00:00<?, ?it/s]"
      ]
     },
     "metadata": {},
     "output_type": "display_data"
    },
    {
     "data": {
      "application/vnd.jupyter.widget-view+json": {
       "model_id": "",
       "version_major": 2,
       "version_minor": 0
      },
      "text/plain": [
       "right_visual:   0%|          | 0/44 [00:00<?, ?it/s]"
      ]
     },
     "metadata": {},
     "output_type": "display_data"
    },
    {
     "data": {
      "application/vnd.jupyter.widget-view+json": {
       "model_id": "",
       "version_major": 2,
       "version_minor": 0
      },
      "text/plain": [
       "left_visual:   0%|          | 0/45 [00:00<?, ?it/s]"
      ]
     },
     "metadata": {},
     "output_type": "display_data"
    },
    {
     "data": {
      "application/vnd.jupyter.widget-view+json": {
       "model_id": "",
       "version_major": 2,
       "version_minor": 0
      },
      "text/plain": [
       "right_tactile:   0%|          | 0/76 [00:00<?, ?it/s]"
      ]
     },
     "metadata": {},
     "output_type": "display_data"
    },
    {
     "data": {
      "application/vnd.jupyter.widget-view+json": {
       "model_id": "",
       "version_major": 2,
       "version_minor": 0
      },
      "text/plain": [
       "left_tactile:   0%|          | 0/83 [00:00<?, ?it/s]"
      ]
     },
     "metadata": {},
     "output_type": "display_data"
    },
    {
     "data": {
      "application/vnd.jupyter.widget-view+json": {
       "model_id": "",
       "version_major": 2,
       "version_minor": 0
      },
      "text/plain": [
       "right_vistact:   0%|          | 0/51 [00:00<?, ?it/s]"
      ]
     },
     "metadata": {},
     "output_type": "display_data"
    },
    {
     "data": {
      "application/vnd.jupyter.widget-view+json": {
       "model_id": "",
       "version_major": 2,
       "version_minor": 0
      },
      "text/plain": [
       "left_vistact:   0%|          | 0/56 [00:00<?, ?it/s]"
      ]
     },
     "metadata": {},
     "output_type": "display_data"
    },
    {
     "data": {
      "application/vnd.jupyter.widget-view+json": {
       "model_id": "",
       "version_major": 2,
       "version_minor": 0
      },
      "text/plain": [
       "right_visual:   0%|          | 0/44 [00:00<?, ?it/s]"
      ]
     },
     "metadata": {},
     "output_type": "display_data"
    },
    {
     "data": {
      "application/vnd.jupyter.widget-view+json": {
       "model_id": "",
       "version_major": 2,
       "version_minor": 0
      },
      "text/plain": [
       "left_visual:   0%|          | 0/45 [00:00<?, ?it/s]"
      ]
     },
     "metadata": {},
     "output_type": "display_data"
    },
    {
     "data": {
      "application/vnd.jupyter.widget-view+json": {
       "model_id": "",
       "version_major": 2,
       "version_minor": 0
      },
      "text/plain": [
       "right_tactile:   0%|          | 0/76 [00:00<?, ?it/s]"
      ]
     },
     "metadata": {},
     "output_type": "display_data"
    },
    {
     "data": {
      "application/vnd.jupyter.widget-view+json": {
       "model_id": "",
       "version_major": 2,
       "version_minor": 0
      },
      "text/plain": [
       "left_tactile:   0%|          | 0/83 [00:00<?, ?it/s]"
      ]
     },
     "metadata": {},
     "output_type": "display_data"
    },
    {
     "data": {
      "application/vnd.jupyter.widget-view+json": {
       "model_id": "",
       "version_major": 2,
       "version_minor": 0
      },
      "text/plain": [
       "right_vistact:   0%|          | 0/51 [00:00<?, ?it/s]"
      ]
     },
     "metadata": {},
     "output_type": "display_data"
    },
    {
     "data": {
      "application/vnd.jupyter.widget-view+json": {
       "model_id": "",
       "version_major": 2,
       "version_minor": 0
      },
      "text/plain": [
       "left_vistact:   0%|          | 0/56 [00:00<?, ?it/s]"
      ]
     },
     "metadata": {},
     "output_type": "display_data"
    },
    {
     "data": {
      "application/vnd.jupyter.widget-view+json": {
       "model_id": "",
       "version_major": 2,
       "version_minor": 0
      },
      "text/plain": [
       "Mou($\\tau$=1):   0%|          | 0/10 [00:00<?, ?it/s]"
      ]
     },
     "metadata": {},
     "output_type": "display_data"
    }
   ],
   "source": [
    "cv = StratifiedShuffleSplit(n_rep, test_size=0.2, random_state=420)\n",
    "perf = np.zeros([n_rep, len(features), 4])\n",
    "classifiers = {}\n",
    "\n",
    "for i_feat, feat in enumerate(tqdm(features,desc=\"Fit & score classifiers\",position=0)):\n",
    "  \n",
    "    data = np.concatenate([f.flatten() for f in feature_data[feat]])\n",
    "    labels = np.concatenate( [np.full((len(feature_data[feat][i].flatten())),cond_keys_str[i])\n",
    "                                for i in range(len(feature_data[feat]))] )\n",
    "    #feature_labels[feat]\n",
    "    #for i in range(len(feature_data[feat])):\n",
    "         #= feature_data[feat][i]\n",
    "\n",
    "\n",
    "\n",
    "    scaler = preprocessing.StandardScaler().fit( data )\n",
    "    data = scaler.transform(data)\n",
    "\n",
    "    cv_split = cv.split(data, labels)\n",
    "\n",
    "    c_MLR = skppl.make_pipeline(skppc.StandardScaler(),\n",
    "                                skllm.LogisticRegression(C=1, penalty='l2', multi_class='multinomial',\n",
    "                                                         solver='lbfgs',\n",
    "                                                         max_iter=500))\n",
    "    c_1NN = sklnn.KNeighborsClassifier(n_neighbors=1, algorithm='brute', metric='correlation')\n",
    "\n",
    "    c_LDA = skda.LinearDiscriminantAnalysis(n_components=n_comp_LDA, solver='eigen', shrinkage='auto')\n",
    "\n",
    "    c_RF = skens.RandomForestClassifier(n_estimators=100, bootstrap=False)\n",
    "\n",
    "    classifiers[feat]={\"c_MLR\":c_MLR.get_params()['steps'][1][1],\"c_1NN\":c_1NN,\"c_LDA\":c_LDA,\"c_RF\":c_RF}\n",
    "\n",
    "    i = 0  ## counter\n",
    "    for train_idx, test_idx in tqdm(cv_split,desc=feat,total=n_rep, leave=False, position=1):\n",
    "        #print(f'\\tRepetition {i:>3}/{n_rep}', end=\"\\r\" )\n",
    "        c_MLR.fit(data[train_idx, :], labels[train_idx])\n",
    "        c_1NN.fit(data[train_idx, :], labels[train_idx])\n",
    "        c_LDA.fit(data[train_idx, :], labels[train_idx])\n",
    "        c_RF .fit(data[train_idx, :], labels[train_idx])\n",
    "        perf[i, i_feat, 0] = c_MLR.score(data[test_idx, :], labels[test_idx])\n",
    "        perf[i, i_feat, 1] = c_1NN.score(data[test_idx, :], labels[test_idx])\n",
    "        perf[i, i_feat, 2] = c_LDA.score(data[test_idx, :], labels[test_idx])\n",
    "        perf[i, i_feat, 3] = c_RF.score(data[test_idx, :], labels[test_idx])\n",
    "        i += 1\n",
    "    #print(f'\\tRepetition {n_rep:>3}/{n_rep}' )"
   ]
  },
  {
   "cell_type": "code",
   "execution_count": 7,
   "metadata": {},
   "outputs": [
    {
     "data": {
      "application/vnd.jupyter.widget-view+json": {
       "model_id": "2fd78eb8b99e4a0fa98932bede6c64fc",
       "version_major": 2,
       "version_minor": 0
      },
      "text/plain": [
       "Plotting Features:   0%|          | 0/3 [00:00<?, ?it/s]"
      ]
     },
     "metadata": {},
     "output_type": "display_data"
    },
    {
     "data": {
      "text/plain": [
       "<function matplotlib.pyplot.show(close=None, block=None)>"
      ]
     },
     "execution_count": 7,
     "metadata": {},
     "output_type": "execute_result"
    },
    {
     "data": {
      "image/png": "[encoded data removed]",
      "text/plain": [
       "<Figure size 432x288 with 1 Axes>"
      ]
     },
     "metadata": {
      "needs_background": "light"
     },
     "output_type": "display_data"
    }
   ],
   "source": [
    "\n",
    "if save_outputs:\n",
    "    np.save('perf_tasks.npy', perf)\n",
    "plt.figure()\n",
    "title = ' '.join([\"Classifiers Accuracies\",\"for\",str(comp),\"Components on Condtions:\",', '.join(cond_keys_str)]) #str(len(svd.conditions)),\"Conditions\"])\n",
    "plt.suptitle(title)\n",
    "\n",
    "\n",
    "for i, feat in enumerate(tqdm(features,desc=\"Plotting Features\")):\n",
    "    v1 = plots.colored_violinplot(perf[:, i, 0], positions=np.arange(1) + i - 0.3, widths=[0.15], color=\"blue\")\n",
    "    v2 = plots.colored_violinplot(perf[:, i, 1], positions=np.arange(1) + i - 0.1, widths=[0.15], color=\"orange\")\n",
    "    v3 = plots.colored_violinplot(perf[:, i, 2], positions=np.arange(1) + i + 0.1, widths=[0.15], color=\"green\")\n",
    "    v4 = plots.colored_violinplot(perf[:, i, 3], positions=np.arange(1) + i + 0.3, widths=[0.15], color=\"yellow\")\n",
    "    if i == 0:\n",
    "        plt.legend( [ v['bodies'][0] for v in [v1,v2,v3,v4]], [ \"MLR\", \"1NN\", \"LDA\",\"RF\" ] )\n",
    "\n",
    "\n",
    "\n",
    "plt.xticks(range(len(features)), [ feat for feat in feature_label ])\n",
    "plt.plot([-.5, len(features)-.5], [1/len(svd.conditions), 1/len(svd.conditions)], '--k')\n",
    "plt.yticks(np.arange(0, 1, 0.1))\n",
    "plt.ylabel('Accuracy', fontsize=14)\n",
    "\n",
    "plt.savefig( plot_path/(title+\".png\") )\n",
    "plt.show"
   ]
  },
  {
   "cell_type": "code",
   "execution_count": null,
   "metadata": {},
   "outputs": [],
   "source": []
  }
 ],
 "metadata": {
  "kernelspec": {
   "display_name": "Python 3",
   "language": "python",
   "name": "python3"
  },
  "language_info": {
   "codemirror_mode": {
    "name": "ipython",
    "version": 3
   },
   "file_extension": ".py",
   "mimetype": "text/x-python",
   "name": "python",
   "nbconvert_exporter": "python",
   "pygments_lexer": "ipython3",
   "version": "3.8.3"
  }
 },
 "nbformat": 4,
 "nbformat_minor": 5
}
